{
 "cells": [
  {
   "cell_type": "markdown",
   "metadata": {},
   "source": [
    "# CoppeliaSim: PART 2\n",
    "* Run the scene workshop1.ttt in CoppeliaSim"
   ]
  },
  {
   "cell_type": "code",
   "execution_count": 4,
   "metadata": {},
   "outputs": [
    {
     "name": "stdout",
     "output_type": "stream",
     "text": [
      "Populating the interactive namespace from numpy and matplotlib\n"
     ]
    }
   ],
   "source": [
    "import sim\n",
    "%pylab inline"
   ]
  },
  {
   "cell_type": "markdown",
   "metadata": {},
   "source": [
    "# Robot"
   ]
  },
  {
   "cell_type": "code",
   "execution_count": 5,
   "metadata": {},
   "outputs": [],
   "source": [
    "class robot():\n",
    "    \n",
    "    def __init__(self, frame_name, motor_names=[], client_id=0):  \n",
    "        # If there is an existing connection\n",
    "        if client_id:\n",
    "                self.client_id = client_id\n",
    "        else:\n",
    "            self.client_id = self.open_connection()\n",
    "            \n",
    "        self.motors = self._get_handlers(motor_names) \n",
    "        \n",
    "        # Robot frame\n",
    "        self.frame =  self._get_handler(frame_name)\n",
    "            \n",
    "        \n",
    "    def open_connection(self):\n",
    "        sim.simxFinish(-1)  # just in case, close all opened connections\n",
    "        self.client_id = sim.simxStart('127.0.0.1', 19999, True, True, 5000, 5)  # Connect to CoppeliaSim \n",
    "        \n",
    "        if self.client_id != -1:\n",
    "            print('Robot connected')\n",
    "        else:\n",
    "            print('Connection failed')\n",
    "        return self.client_id\n",
    "        \n",
    "    def close_connection(self):    \n",
    "        sim.simxGetPingTime(self.client_id)  # Before closing the connection to CoppeliaSim, make sure that the last command sent out had time to arrive.\n",
    "        sim.simxFinish(self.client_id)  # Now close the connection to CoppeliaSim:\n",
    "        print('Connection closed')\n",
    "    \n",
    "    def isConnected(self):\n",
    "        c,result = sim.simxGetPingTime(self.client_id)\n",
    "        # Return true if the robot is connected\n",
    "        return result > 0         \n",
    "        \n",
    "    def _get_handler(self, name):\n",
    "        err_code, handler = sim.simxGetObjectHandle(self.client_id, name, sim.simx_opmode_blocking)\n",
    "        return handler\n",
    "    \n",
    "    def _get_handlers(self, names):\n",
    "        handlers = []\n",
    "        for name in names:\n",
    "            handler = self._get_handler(name)\n",
    "            handlers.append(handler)\n",
    "        \n",
    "        return handlers\n",
    "\n",
    "    def send_motor_velocities(self, vels):\n",
    "        for motor, vel in zip(self.motors, vels):\n",
    "            err_code = sim.simxSetJointTargetVelocity(self.client_id, \n",
    "                                                      motor, vel, sim.simx_opmode_streaming)\n",
    "            if (err_code != 0):\n",
    "                print(f\"ERROR SENDING MOTOR VELS {err_code}\")\n",
    "            \n",
    "    def set_position(self, position, relative_object=-1):\n",
    "        if relative_object != -1:\n",
    "            relative_object = self._get_handler(relative_object)        \n",
    "        sim.simxSetObjectPosition(self.client_id, self.frame, relative_object, position, sim.simx_opmode_streaming)\n",
    "        \n",
    "    def simtime(self):\n",
    "        return sim.simxGetLastCmdTime(self.client_id)\n",
    "    \n",
    "    def get_position(self, relative_object=-1):\n",
    "        # Get position relative to an object, -1 for global frame\n",
    "        if relative_object != -1:\n",
    "            relative_object = self._get_handler(relative_object)\n",
    "        res, position = sim.simxGetObjectPosition(self.client_id, self.frame, relative_object, sim.simx_opmode_blocking)        \n",
    "        return array(position)\n",
    "    \n",
    "    def get_object_position(self, object_name):\n",
    "        # Get Object position in the world frame\n",
    "        err_code, object_h = sim.simxGetObjectHandle(self.client_id, object_name, sim.simx_opmode_blocking)\n",
    "        res, position = sim.simxGetObjectPosition(self.client_id, object_h, -1, sim.simx_opmode_blocking)\n",
    "        return array(position)\n",
    "    \n",
    "    def get_object_relative_position(self, object_name):        \n",
    "        # Get Object position in the robot frame\n",
    "        err_code, object_h = sim.simxGetObjectHandle(self.client_id, object_name, sim.simx_opmode_blocking)\n",
    "        res, position = sim.simxGetObjectPosition(self.client_id, object_h, self.frame, sim.simx_opmode_blocking)\n",
    "        return array(position)"
   ]
  },
  {
   "cell_type": "markdown",
   "metadata": {},
   "source": [
    "# Trajectory follower\n",
    "\n",
    "Follows a spline trajectory through the spheres. "
   ]
  },
  {
   "cell_type": "code",
   "execution_count": 9,
   "metadata": {},
   "outputs": [
    {
     "name": "stdout",
     "output_type": "stream",
     "text": [
      "Robot connected\n",
      "ERROR SENDING MOTOR VELS 1\n",
      "ERROR SENDING MOTOR VELS 1\n",
      "ERROR SENDING MOTOR VELS 1\n",
      "ERROR SENDING MOTOR VELS 1\n",
      "BEHIND50.0\n",
      "BEHIND0.0\n",
      "BEHIND0.0\n",
      "Connection closed\n"
     ]
    }
   ],
   "source": [
    "# Joint name in coppelia\n",
    "motor_names = ['Omnirob_FLwheel_motor', 'Omnirob_FRwheel_motor', 'Omnirob_RRwheel_motor', 'Omnirob_RLwheel_motor']\n",
    "r = robot('Omnirob', motor_names)  # Create an instance of our robot\n",
    "#disk = robot('Disc', client_id=r.client_id)\n",
    "starting_vel = array([0., 0., 0.])\n",
    "starting_pos = r.get_position()\n",
    "def p_spline(tf, target_vel, desired_pos):\n",
    "    global starting_vel\n",
    "    global starting_pos\n",
    "    start_time = sim.simxGetLastCmdTime(r.client_id)\n",
    "    # Time interval\n",
    "    time_step = 0.1\n",
    "    time_steps = linspace(0, tf, round(tf / time_step))\n",
    "\n",
    "    a3 = (2*starting_pos+(starting_vel + target_vel) * tf - 2*desired_pos)/(tf**3)\n",
    "    a2 = (3*desired_pos-3*starting_pos-2*starting_vel*tf-target_vel*tf)/(tf**2)\n",
    "    a1 = starting_vel\n",
    "    a0 = starting_pos\n",
    "\n",
    "    for t in time_steps:\n",
    "        point_traj = a3 * t**3 + a2 * t**2 + a1 * t + a0\n",
    "        vel_traj = 3 * a3 * t**2 + 2 * a2 * t + a1\n",
    "\n",
    "        # Sensing\n",
    "        robot_position = r.get_position()\n",
    "        # disk.set_position(point_traj)\n",
    "\n",
    "        # Trajectory tracker\n",
    "        u = 30 * (point_traj - robot_position) + vel_traj\n",
    "\n",
    "        vx, vy, vz = u\n",
    "        r.send_motor_velocities([-vy - vx, vy - vx, vy + vx, -vy + vx])\n",
    "\n",
    "        if (sim.simxGetLastCmdTime(r.client_id) - start_time < (t + time_step) * 1000):\n",
    "            time.sleep((t + time_step) - (sim.simxGetLastCmdTime(r.client_id) - start_time) / 1000)\n",
    "        else:\n",
    "            print(f\"BEHIND{sim.simxGetLastCmdTime(r.client_id) - start_time - (t + time_step)*1000}\")\n",
    "    starting_vel = target_vel\n",
    "    starting_pos = desired_pos\n",
    "p_spline(17, array([0., -0.1, 0.]), r.get_object_position('Sphere1'))\n",
    "\n",
    "p_spline(20, array([0., -0.3, 0.]), array([4.5, 6., 0.5]))\n",
    "\n",
    "p_spline(12, array([-0.2, 0.1, 0.]), r.get_object_position('Sphere'))\n",
    "\n",
    "p_spline(35, array([0., -0.4, 0.]), r.get_object_position('Sphere0'))\n",
    "\n",
    "p_spline(30, array([0.4, 0.15, 0.]), r.get_object_position('Sphere2'))\n",
    "\n",
    "p_spline(45, array([-0.3, 0., 0.]), r.get_object_position('Sphere3'))\n",
    "\n",
    "p_spline(25, array([-0.2, 0.2, 0.]), array([0.5, -5., 0.5]))\n",
    "\n",
    "p_spline(50, array([-0.1, -0.2, 0.]), array([-4.5, -8., 0.5]))\n",
    "\n",
    "p_spline(5, array([0., 0., 0.]), r.get_object_position('Sphere4'))\n",
    "\n",
    "r.send_motor_velocities([0., 0., 0., 0.])\n",
    "\n",
    "r.close_connection() "
   ]
  },
  {
   "cell_type": "code",
   "execution_count": null,
   "metadata": {},
   "outputs": [],
   "source": []
  }
 ],
 "metadata": {
  "kernelspec": {
   "display_name": "Python 3",
   "language": "python",
   "name": "python3"
  },
  "language_info": {
   "codemirror_mode": {
    "name": "ipython",
    "version": 3
   },
   "file_extension": ".py",
   "mimetype": "text/x-python",
   "name": "python",
   "nbconvert_exporter": "python",
   "pygments_lexer": "ipython3",
   "version": "3.7.7"
  }
 },
 "nbformat": 4,
 "nbformat_minor": 4
}
